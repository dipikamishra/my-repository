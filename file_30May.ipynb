{
 "cells": [
  {
   "cell_type": "code",
   "execution_count": null,
   "id": "47739c4e",
   "metadata": {},
   "outputs": [],
   "source": [
    "import pyshtools as pysh\n",
    "import matplotlib.pyplot as plt\n",
    "import numpy as np\n",
    "from pyshtools import *\n",
    "\n",
    "from cartopy import crs as ccrs\n",
    "import pygmt\n",
    "from palettable import scientific as scm\n",
    "from pyshtools import constants"
   ]
  },
  {
   "cell_type": "code",
   "execution_count": null,
   "id": "ba0ed87f",
   "metadata": {},
   "outputs": [],
   "source": [
    "pysh.utils.figstyle(rel_width=0.75)\n",
    "%config InlineBackend.figure_format = 'retina'"
   ]
  },
  {
   "cell_type": "code",
   "execution_count": null,
   "id": "698ab38a",
   "metadata": {},
   "outputs": [],
   "source": [
    "clm=pysh.SHGravCoeffs.from_file('gggrx_1200a_sha.tab', format = 'shtools', lmax = 660)"
   ]
  },
  {
   "cell_type": "code",
   "execution_count": null,
   "id": "e8a798c2",
   "metadata": {},
   "outputs": [],
   "source": [
    "clm"
   ]
  },
  {
   "cell_type": "code",
   "execution_count": null,
   "id": "930dd612",
   "metadata": {},
   "outputs": [],
   "source": [
    "i = 1\n",
    "j = 0\n",
    "for i in range(18):\n",
    "    for j in range(18):\n",
    "        clm.set_coeffs(0,i,j)\n",
    "i =1\n",
    "j = 0\n",
    "for i in range(18):\n",
    "    for j in range(0,-18,-1):\n",
    "        clm.set_coeffs(0,i,j)"
   ]
  },
  {
   "cell_type": "code",
   "execution_count": null,
   "id": "b97d038a",
   "metadata": {},
   "outputs": [],
   "source": [
    "clm.expand()\n"
   ]
  },
  {
   "cell_type": "code",
   "execution_count": null,
   "id": "de4bf31e",
   "metadata": {},
   "outputs": [],
   "source": [
    "grid = clm.expand()"
   ]
  },
  {
   "cell_type": "code",
   "execution_count": null,
   "id": "5434bb79",
   "metadata": {},
   "outputs": [],
   "source": [
    "grid?"
   ]
  },
  {
   "cell_type": "code",
   "execution_count": null,
   "id": "2c2f096b",
   "metadata": {},
   "outputs": [],
   "source": [
    "total_grid= grid.total"
   ]
  },
  {
   "cell_type": "code",
   "execution_count": null,
   "id": "74d69afd",
   "metadata": {},
   "outputs": [],
   "source": [
    "#total_grid?\n",
    "for i in total_grid:\n",
    "    for j in total_grid:\n",
    "        print(total_grid[i][j])"
   ]
  },
  {
   "cell_type": "code",
   "execution_count": null,
   "id": "dc7c404a",
   "metadata": {},
   "outputs": [],
   "source": [
    "fig = total_grid.plotgmt(projection='mollweide',\n",
    "                   central_longitude=0.,\n",
    "                   cmap='vik',\n",
    "                   cmap_limits=[-5, 10],\n",
    "                   tick_interval=None,\n",
    "                   colorbar='right',\n",
    "                   cb_label='Elevation',\n",
    "                   cb_ylabel='km',\n",
    "                   cb_triangles='both',\n",
    "                   cb_tick_interval=2,\n",
    "                   grid=[60, 45],\n",
    "                   shading=True)\n",
    "fig.show()"
   ]
  },
  {
   "cell_type": "code",
   "execution_count": null,
   "id": "e003e5ee",
   "metadata": {},
   "outputs": [],
   "source": [
    "total_grid.to_netcdf(\"total_netcdf\")"
   ]
  },
  {
   "cell_type": "code",
   "execution_count": null,
   "id": "ea12e4a1",
   "metadata": {
    "scrolled": true
   },
   "outputs": [],
   "source": [
    "for i in total_grid:\n",
    "    for j in total_grid:\n",
    "        print(total_grid[i][j])"
   ]
  },
  {
   "cell_type": "code",
   "execution_count": null,
   "id": "c55d5f2d",
   "metadata": {},
   "outputs": [],
   "source": [
    "total_array = total_grid.to_array()"
   ]
  },
  {
   "cell_type": "code",
   "execution_count": null,
   "id": "0b8b5ef4",
   "metadata": {},
   "outputs": [],
   "source": [
    "total_array"
   ]
  },
  {
   "cell_type": "code",
   "execution_count": null,
   "id": "2186a346",
   "metadata": {},
   "outputs": [],
   "source": [
    "for i in range(len(total_array)):\n",
    "    for j in range(len( total_array)):\n",
    "        print(\"value at\",\"(\", i ,\",\", j,\")\",\"=\",total_array[i][j])"
   ]
  },
  {
   "cell_type": "code",
   "execution_count": null,
   "id": "dee71270",
   "metadata": {},
   "outputs": [],
   "source": [
    "print(total_array[0,0])"
   ]
  },
  {
   "cell_type": "code",
   "execution_count": null,
   "id": "c98641cf",
   "metadata": {},
   "outputs": [],
   "source": [
    "shape = pysh.datasets.Moon.MoonTopo2600p()\n"
   ]
  },
  {
   "cell_type": "code",
   "execution_count": null,
   "id": "a40d64bf",
   "metadata": {},
   "outputs": [],
   "source": [
    "shape_grid = shape.expand(grid='DH2')\n",
    "shape_grid"
   ]
  },
  {
   "cell_type": "code",
   "execution_count": null,
   "id": "ce9dde65",
   "metadata": {},
   "outputs": [],
   "source": [
    "shape"
   ]
  },
  {
   "cell_type": "markdown",
   "id": "fd2dd547",
   "metadata": {},
   "source": [
    "i = 1\n",
    "j = 0\n",
    "for i in range(18):\n",
    "    for j in range(18):\n",
    "        shape.set_coeffs(0,i,j)\n",
    "i =1\n",
    "j = 0\n",
    "for i in range(18):\n",
    "    for j in range(0,-18,-1):\n",
    "        shape.set_coeffs(0,i,j)"
   ]
  },
  {
   "cell_type": "code",
   "execution_count": null,
   "id": "6e1e8737",
   "metadata": {},
   "outputs": [],
   "source": [
    "grid2= shape.expand()"
   ]
  },
  {
   "cell_type": "code",
   "execution_count": null,
   "id": "ebcfdb83",
   "metadata": {},
   "outputs": [],
   "source": [
    "grid2"
   ]
  },
  {
   "cell_type": "code",
   "execution_count": null,
   "id": "c180cbd6",
   "metadata": {},
   "outputs": [],
   "source": [
    "Array2 = grid2.to_array()\n",
    "print(len(Array2))\n",
    "      \n",
    "for i in range(len(Array2)):\n",
    "    for j in range(len(Array2)):\n",
    "        print(Array2[i][j])\n"
   ]
  },
  {
   "cell_type": "code",
   "execution_count": null,
   "id": "36c5a0d5",
   "metadata": {},
   "outputs": [],
   "source": [
    "fig = grid2.plotgmt(projection='mollweide',\n",
    "                   central_longitude=0.,\n",
    "                   cmap='vik',\n",
    "                   cmap_limits=[-5, 10],\n",
    "                   tick_interval=None,\n",
    "                   colorbar='right',\n",
    "                   cb_label='Elevation',\n",
    "                   cb_ylabel='km',\n",
    "                   cb_triangles='both',\n",
    "                   cb_tick_interval=2,\n",
    "                   grid=[60, 45],\n",
    "                   shading=True)\n",
    "fig.show()"
   ]
  },
  {
   "cell_type": "code",
   "execution_count": null,
   "id": "e878e0cd",
   "metadata": {},
   "outputs": [],
   "source": [
    "i = 1\n",
    "j = 0\n",
    "for i in range(18):\n",
    "    for j in range(18):\n",
    "        shape.set_coeffs(0,i,j)\n",
    "i =1\n",
    "j = 0\n",
    "for i in range(18):\n",
    "    for j in range(0,-18,-1):\n",
    "        shape.set_coeffs(0,i,j)"
   ]
  },
  {
   "cell_type": "code",
   "execution_count": null,
   "id": "4c1584f8",
   "metadata": {},
   "outputs": [],
   "source": [
    "grid3= shape.expand()"
   ]
  },
  {
   "cell_type": "code",
   "execution_count": null,
   "id": "d6809125",
   "metadata": {},
   "outputs": [],
   "source": [
    "fig = grid3.plotgmt(projection='mollweide',\n",
    "                   central_longitude=0.,\n",
    "                   cmap='vik',\n",
    "                   cmap_limits=[-5, 10],\n",
    "                   tick_interval=None,\n",
    "                   colorbar='right',\n",
    "                   cb_label='Elevation',\n",
    "                   cb_ylabel='km',\n",
    "                   cb_triangles='both',\n",
    "                   cb_tick_interval=2,\n",
    "                   grid=[60, 45],\n",
    "                   shading=True)\n",
    "fig.show()"
   ]
  },
  {
   "cell_type": "code",
   "execution_count": null,
   "id": "eb0fc17b",
   "metadata": {},
   "outputs": [],
   "source": [
    "bc = pysh.SHGravCoeffs.from_shape(shape, rho = 2700.,gm = clm.gm,lmax=660)"
   ]
  },
  {
   "cell_type": "code",
   "execution_count": null,
   "id": "7039e1e0",
   "metadata": {},
   "outputs": [],
   "source": [
    "total_grid?"
   ]
  },
  {
   "cell_type": "code",
   "execution_count": null,
   "id": "a0f4c6c9",
   "metadata": {},
   "outputs": [],
   "source": [
    "grid3"
   ]
  },
  {
   "cell_type": "code",
   "execution_count": null,
   "id": "3aa4d9f5",
   "metadata": {},
   "outputs": [],
   "source": [
    "bc.info()"
   ]
  },
  {
   "cell_type": "code",
   "execution_count": null,
   "id": "2236f67b",
   "metadata": {},
   "outputs": [],
   "source": [
    "bc = bc.change_ref(r0=clm.r0)\n",
    "bouger = clm -bc"
   ]
  },
  {
   "cell_type": "code",
   "execution_count": null,
   "id": "d68adab5",
   "metadata": {},
   "outputs": [],
   "source": [
    "bouger_grid = bouger.expand(lmax = 660)"
   ]
  },
  {
   "cell_type": "code",
   "execution_count": null,
   "id": "bc845e8a",
   "metadata": {},
   "outputs": [],
   "source": [
    "bouger_grid?"
   ]
  },
  {
   "cell_type": "code",
   "execution_count": null,
   "id": "2a9e68d7",
   "metadata": {},
   "outputs": [],
   "source": [
    "bouger_total = bouger_grid.total"
   ]
  },
  {
   "cell_type": "code",
   "execution_count": null,
   "id": "1499d4dc",
   "metadata": {},
   "outputs": [],
   "source": []
  },
  {
   "cell_type": "code",
   "execution_count": null,
   "id": "8f4ac8f0",
   "metadata": {},
   "outputs": [],
   "source": [
    "fig = bouger_total.plotgmt(projection='mollweide',\n",
    "                   central_longitude=0.,\n",
    "                   cmap='vik',\n",
    "                   cmap_limits=[-5, 10],\n",
    "                   tick_interval=None,\n",
    "                   colorbar='right',\n",
    "                   cb_label='Elevation',\n",
    "                   cb_ylabel='km',\n",
    "                   cb_triangles='both',\n",
    "                   cb_tick_interval=2,\n",
    "                   grid=[60, 45],\n",
    "                   shading=True)\n",
    "fig.show()"
   ]
  },
  {
   "cell_type": "code",
   "execution_count": null,
   "id": "ad9bc75d",
   "metadata": {},
   "outputs": [],
   "source": []
  }
 ],
 "metadata": {
  "kernelspec": {
   "display_name": "craters",
   "language": "python",
   "name": "craters"
  },
  "language_info": {
   "codemirror_mode": {
    "name": "ipython",
    "version": 3
   },
   "file_extension": ".py",
   "mimetype": "text/x-python",
   "name": "python",
   "nbconvert_exporter": "python",
   "pygments_lexer": "ipython3",
   "version": "3.9.12"
  }
 },
 "nbformat": 4,
 "nbformat_minor": 5
}
